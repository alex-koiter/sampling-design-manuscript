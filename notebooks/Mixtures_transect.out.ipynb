{
 "cells": [
  {
   "cell_type": "markdown",
   "metadata": {},
   "source": [
    "# MixSIAR results- Transect source, design specific mixture\n",
    "\n",
    "Alex Koiter\n",
    "\n",
    "## Load Libraries"
   ],
   "id": "5b89452e-4763-4e76-8f3f-bb9271a50ba3"
  },
  {
   "cell_type": "code",
   "execution_count": null,
   "metadata": {},
   "outputs": [
    {
     "output_type": "stream",
     "name": "stderr",
     "text": [
      "── Attaching core tidyverse packages ──────────────────────── tidyverse 2.0.0 ──\n",
      "✔ dplyr     1.1.4     ✔ readr     2.1.4\n",
      "✔ forcats   1.0.0     ✔ stringr   1.5.1\n",
      "✔ ggplot2   3.5.0     ✔ tibble    3.2.1\n",
      "✔ lubridate 1.9.2     ✔ tidyr     1.3.1\n",
      "✔ purrr     1.0.2     \n",
      "── Conflicts ────────────────────────────────────────── tidyverse_conflicts() ──\n",
      "✖ dplyr::filter() masks stats::filter()\n",
      "✖ dplyr::lag()    masks stats::lag()\n",
      "ℹ Use the conflicted package (<http://conflicted.r-lib.org/>) to force all conflicts to become errors"
     ]
    }
   ],
   "source": [
    "library(tidyverse)\n"
   ],
   "id": "767e164f-d0d4-4629-b59d-ed07f49d2e7d"
  },
  {
   "cell_type": "markdown",
   "metadata": {},
   "source": [
    "## Fingerprints"
   ],
   "id": "3691e184-342c-4837-924b-8972c0094af6"
  },
  {
   "cell_type": "code",
   "execution_count": null,
   "metadata": {},
   "outputs": [],
   "source": [
    "fingerprints <- c(\"Li\", \"Cu\", \"Ca\", \"Be\", \"Co\")\n"
   ],
   "id": "1b7f14d9-8a9c-460f-8a0b-a08bfbc31f9e"
  },
  {
   "cell_type": "markdown",
   "metadata": {},
   "source": [
    "## Load in data"
   ],
   "id": "e3bd0858-4641-42dc-95d2-f9fbbb7c9cba"
  },
  {
   "cell_type": "code",
   "execution_count": null,
   "metadata": {},
   "outputs": [],
   "source": [
    "geo_results <- read.csv(here::here(\"./notebooks/Geochemistry analysis - Copy 2.csv\")) %>%\n",
    "  pivot_longer(cols = Ag:Zr, names_to = \"Fingerprint\", values_to = \"value\") %>%\n",
    "  filter(Fingerprint %in% c(\"Ag\", \"Al\", \"As\",\"B\",\"Ba\",\"Be\",\"Bi\",\"Ca\",\"Cd\",\"Ce\",\"Co\", \"Cr\", \"Cs\", \"Cu\", \"Fe\", \"Ga\", \"Hf\", \"Hg\", \"In\", \"K\", \"La\", \"Li\", \"Mg\", \"Mn\", \"Mo\", \"Nb\", \"Ni\", \"P\", \"Pb\", \"Rb\", \"S\", \"Sb\", \"Sc\", \"Se\", \"Sn\", \"Sr\", \"Te\", \"Th\", \"Tl\", \"U\", \"V\", \"Y\", \"Zn\", \"Zr\")) %>% # excludes fingerprints that are below level of detection\n",
    "  dplyr::select(-X) %>% # don't need this column\n",
    "  filter(sample_design %in% c(\"Grid\", \"Transect\", \"Likely to erode\")) \n",
    "\n",
    "col_results <- read.csv(here::here(\"./notebooks/final results revised.csv\")) %>%\n",
    "  pivot_longer(cols = X:B, names_to = \"Fingerprint\", values_to = \"value\") %>%\n",
    "  dplyr::select(-X.1) %>% # don't need this column\n",
    "  filter(sample_design %in% c(\"Grid\", \"Transect\", \"Likely to erode\")) %>%\n",
    "  mutate(Fingerprint = paste0(Fingerprint, \"_col\")) # appended _col as some of the colour coefficients have the same id eg Boron = B and Blue also = B\n",
    "\n",
    "\n",
    "# Bind data sets\n",
    "results <- geo_results %>%\n",
    "  bind_rows(col_results) %>%\n",
    "  filter(Fingerprint %in% fingerprints)\n"
   ],
   "id": "367d3daf-6177-4349-8b4e-80eb224df997"
  },
  {
   "cell_type": "markdown",
   "metadata": {},
   "source": [
    "## Virtual mixtures"
   ],
   "id": "5d4a0795-47c3-4dd7-a510-67c02282802e"
  },
  {
   "cell_type": "code",
   "execution_count": null,
   "metadata": {},
   "outputs": [
    {
     "output_type": "stream",
     "name": "stderr",
     "text": [
      "`summarise()` has grouped output by 'Fingerprint'. You can override using the\n",
      "`.groups` argument.\n",
      "`summarise()` has grouped output by 'Fingerprint', 'Agriculture'. You can\n",
      "override using the `.groups` argument."
     ]
    }
   ],
   "source": [
    "proportions <- seq(0, 1, 0.05)\n",
    "\n",
    "mixtures <- results %>%\n",
    "  filter(sample_design %in% c(\"Transect\")) %>% \n",
    "  group_by(Fingerprint, site) %>%\n",
    "  summarise(avg =  mean(value)) %>%\n",
    "  pivot_wider(names_from = site, values_from = avg) %>%\n",
    "  mutate(mix_ag = map(Agriculture, ~.x * (1 - proportions)),\n",
    "         mix_forest = map(Forest, ~.x * proportions)) %>%\n",
    "  group_by(Fingerprint, Agriculture, Forest) %>%\n",
    "  summarize(mix = map2(mix_ag, mix_forest, ~data.frame(mix = .x + .y, prop_forest = proportions))) %>%\n",
    "  unnest(mix) %>%\n",
    "  pivot_wider(id_cols = prop_forest, names_from = Fingerprint, values_from = mix) %>%\n",
    "  nest(.by = prop_forest) %>%\n",
    "  mutate(path = here::here(paste0(\"./notebooks/Mixtures_transect/\", prop_forest, \".csv\")))\n"
   ],
   "id": "c2fe5c9c-c3f7-4599-93f2-92701c5684de"
  },
  {
   "cell_type": "markdown",
   "metadata": {},
   "source": [
    "## Sources"
   ],
   "id": "1f8a677f-7e35-4ba1-ae9e-bcf7dae92db4"
  },
  {
   "cell_type": "code",
   "execution_count": null,
   "metadata": {},
   "outputs": [
    {
     "output_type": "stream",
     "name": "stderr",
     "text": [
      "`summarise()` has grouped output by 'site'. You can override using the\n",
      "`.groups` argument."
     ]
    }
   ],
   "source": [
    "sources <- results %>%\n",
    "  filter(sample_design == \"Transect\") %>%\n",
    "  group_by(site, Fingerprint) %>%\n",
    "  summarise(Mean = mean(value),\n",
    "            SD = sd(value)) %>%\n",
    "  pivot_longer(cols = c(\"Mean\", \"SD\"), names_to = \"parameter\", values_to = \"value\") %>%\n",
    "  mutate(variable = paste0(parameter, Fingerprint), parameter = NULL, Fingerprint = NULL) %>%\n",
    "  pivot_wider(names_from = variable, values_from = value) %>%\n",
    "  mutate(n = 14) %>%\n",
    "  ungroup()\n"
   ],
   "id": "443a9636-9059-4b83-b7ce-2b992c73df73"
  },
  {
   "cell_type": "markdown",
   "metadata": {},
   "source": [
    "## Trophic enrichment factor (0)"
   ],
   "id": "cba3a01a-9acc-447a-a027-875441bd0a48"
  },
  {
   "cell_type": "code",
   "execution_count": null,
   "metadata": {},
   "outputs": [],
   "source": [
    "tef <- mutate(sources, across(where(is.numeric), ~0)) %>%\n",
    "  select(-n)\n",
    "write_csv(x = tef, file = here::here(\"./notebooks/Mixtures_transect/tef.csv\"))\n"
   ],
   "id": "1d36191a-8a64-4626-bb7c-1cd72553d1a7"
  },
  {
   "cell_type": "markdown",
   "metadata": {},
   "source": [
    "## Unmixing"
   ],
   "id": "5038fa1e-0254-42af-99a4-d11a465d8fb2"
  },
  {
   "cell_type": "code",
   "execution_count": null,
   "metadata": {},
   "outputs": [
    {
     "output_type": "stream",
     "name": "stderr",
     "text": [
      "module glm loaded"
     ]
    },
    {
     "output_type": "stream",
     "name": "stdout",
     "text": [
      "Compiling model graph\n",
      "   Resolving undeclared variables\n",
      "   Allocating nodes\n",
      "Graph information:\n",
      "   Observed stochastic nodes: 5\n",
      "   Unobserved stochastic nodes: 21\n",
      "   Total graph size: 196\n",
      "\n",
      "Initializing model\n",
      "\n",
      "Compiling model graph\n",
      "   Resolving undeclared variables\n",
      "   Allocating nodes\n",
      "Graph information:\n",
      "   Observed stochastic nodes: 5\n",
      "   Unobserved stochastic nodes: 21\n",
      "   Total graph size: 196\n",
      "\n",
      "Initializing model\n",
      "\n",
      "Compiling model graph\n",
      "   Resolving undeclared variables\n",
      "   Allocating nodes\n",
      "Graph information:\n",
      "   Observed stochastic nodes: 5\n",
      "   Unobserved stochastic nodes: 21\n",
      "   Total graph size: 196\n",
      "\n",
      "Initializing model\n",
      "\n",
      "Compiling model graph\n",
      "   Resolving undeclared variables\n",
      "   Allocating nodes\n",
      "Graph information:\n",
      "   Observed stochastic nodes: 5\n",
      "   Unobserved stochastic nodes: 21\n",
      "   Total graph size: 196\n",
      "\n",
      "Initializing model\n",
      "\n",
      "Compiling model graph\n",
      "   Resolving undeclared variables\n",
      "   Allocating nodes\n",
      "Graph information:\n",
      "   Observed stochastic nodes: 5\n",
      "   Unobserved stochastic nodes: 21\n",
      "   Total graph size: 196\n",
      "\n",
      "Initializing model\n",
      "\n",
      "Compiling model graph\n",
      "   Resolving undeclared variables\n",
      "   Allocating nodes\n",
      "Graph information:\n",
      "   Observed stochastic nodes: 5\n",
      "   Unobserved stochastic nodes: 21\n",
      "   Total graph size: 196\n",
      "\n",
      "Initializing model\n",
      "\n",
      "Compiling model graph\n",
      "   Resolving undeclared variables\n",
      "   Allocating nodes\n",
      "Graph information:\n",
      "   Observed stochastic nodes: 5\n",
      "   Unobserved stochastic nodes: 21\n",
      "   Total graph size: 196\n",
      "\n",
      "Initializing model\n",
      "\n",
      "Compiling model graph\n",
      "   Resolving undeclared variables\n",
      "   Allocating nodes\n",
      "Graph information:\n",
      "   Observed stochastic nodes: 5\n",
      "   Unobserved stochastic nodes: 21\n",
      "   Total graph size: 196\n",
      "\n",
      "Initializing model\n",
      "\n",
      "Compiling model graph\n",
      "   Resolving undeclared variables\n",
      "   Allocating nodes\n",
      "Graph information:\n",
      "   Observed stochastic nodes: 5\n",
      "   Unobserved stochastic nodes: 21\n",
      "   Total graph size: 196\n",
      "\n",
      "Initializing model\n",
      "\n",
      "Compiling model graph\n",
      "   Resolving undeclared variables\n",
      "   Allocating nodes\n",
      "Graph information:\n",
      "   Observed stochastic nodes: 5\n",
      "   Unobserved stochastic nodes: 21\n",
      "   Total graph size: 196\n",
      "\n",
      "Initializing model\n",
      "\n",
      "Compiling model graph\n",
      "   Resolving undeclared variables\n",
      "   Allocating nodes\n",
      "Graph information:\n",
      "   Observed stochastic nodes: 5\n",
      "   Unobserved stochastic nodes: 21\n",
      "   Total graph size: 196\n",
      "\n",
      "Initializing model\n",
      "\n",
      "Compiling model graph\n",
      "   Resolving undeclared variables\n",
      "   Allocating nodes\n",
      "Graph information:\n",
      "   Observed stochastic nodes: 5\n",
      "   Unobserved stochastic nodes: 21\n",
      "   Total graph size: 196\n",
      "\n",
      "Initializing model\n",
      "\n",
      "Compiling model graph\n",
      "   Resolving undeclared variables\n",
      "   Allocating nodes\n",
      "Graph information:\n",
      "   Observed stochastic nodes: 5\n",
      "   Unobserved stochastic nodes: 21\n",
      "   Total graph size: 196\n",
      "\n",
      "Initializing model\n",
      "\n",
      "Compiling model graph\n",
      "   Resolving undeclared variables\n",
      "   Allocating nodes\n",
      "Graph information:\n",
      "   Observed stochastic nodes: 5\n",
      "   Unobserved stochastic nodes: 21\n",
      "   Total graph size: 196\n",
      "\n",
      "Initializing model\n",
      "\n",
      "Compiling model graph\n",
      "   Resolving undeclared variables\n",
      "   Allocating nodes\n",
      "Graph information:\n",
      "   Observed stochastic nodes: 5\n",
      "   Unobserved stochastic nodes: 21\n",
      "   Total graph size: 196\n",
      "\n",
      "Initializing model\n",
      "\n",
      "Compiling model graph\n",
      "   Resolving undeclared variables\n",
      "   Allocating nodes\n",
      "Graph information:\n",
      "   Observed stochastic nodes: 5\n",
      "   Unobserved stochastic nodes: 21\n",
      "   Total graph size: 196\n",
      "\n",
      "Initializing model\n",
      "\n",
      "Compiling model graph\n",
      "   Resolving undeclared variables\n",
      "   Allocating nodes\n",
      "Graph information:\n",
      "   Observed stochastic nodes: 5\n",
      "   Unobserved stochastic nodes: 21\n",
      "   Total graph size: 196\n",
      "\n",
      "Initializing model\n",
      "\n",
      "Compiling model graph\n",
      "   Resolving undeclared variables\n",
      "   Allocating nodes\n",
      "Graph information:\n",
      "   Observed stochastic nodes: 5\n",
      "   Unobserved stochastic nodes: 21\n",
      "   Total graph size: 196\n",
      "\n",
      "Initializing model\n",
      "\n",
      "Compiling model graph\n",
      "   Resolving undeclared variables\n",
      "   Allocating nodes\n",
      "Graph information:\n",
      "   Observed stochastic nodes: 5\n",
      "   Unobserved stochastic nodes: 21\n",
      "   Total graph size: 196\n",
      "\n",
      "Initializing model\n",
      "\n",
      "Compiling model graph\n",
      "   Resolving undeclared variables\n",
      "   Allocating nodes\n",
      "Graph information:\n",
      "   Observed stochastic nodes: 5\n",
      "   Unobserved stochastic nodes: 21\n",
      "   Total graph size: 196\n",
      "\n",
      "Initializing model\n",
      "\n",
      "Compiling model graph\n",
      "   Resolving undeclared variables\n",
      "   Allocating nodes\n",
      "Graph information:\n",
      "   Observed stochastic nodes: 5\n",
      "   Unobserved stochastic nodes: 21\n",
      "   Total graph size: 196\n",
      "\n",
      "Initializing model"
     ]
    }
   ],
   "source": [
    "model_run <- mixtures |>\n",
    "  mutate(\n",
    "    mix = map(path, ~load_mix_data(filename = .x,\n",
    "                                   iso_names = fingerprints,\n",
    "                                   factors = NULL,\n",
    "                                   fac_random = NULL,\n",
    "                                   fac_nested = NULL,\n",
    "                                   cont_effects = NULL)),\n",
    "    source = map(mix, ~load_source_data(filename = here::here(\"./notebooks/Mixtures_transect/source.csv\"),\n",
    "                                        source_factors = NULL, \n",
    "                                        conc_dep = FALSE, \n",
    "                                        data_type = \"means\", \n",
    "                                        .x)),\n",
    "    discr = map(mix, ~load_discr_data(filename = here::here(\"./notebooks/Mixtures_transect/tef.csv\"), .x)))\n",
    "\n",
    "model_run <- model_run |> \n",
    "  mutate(filename = here::here(paste0(\"./notebooks/Mixtures_transect/MixSIAR_\", prop_forest, \".txt\")))\n",
    "\n",
    "model_run |>\n",
    "  select(filename, mix, source) |>\n",
    "  mutate(resid_err = FALSE, process_err = TRUE) |>\n",
    "  pwalk(write_JAGS_model)\n",
    "\n",
    "models <- model_run %>%\n",
    "  select(prop_forest, mix, source, discr, model_filename = filename) %>%\n",
    "  mutate(run = \"normal\", alpha.prior = 1) %>%\n",
    "  #slice(1:2) %>%\n",
    "  mutate(model = pmap(.l = select(., -prop_forest), run_model))\n"
   ],
   "id": "025f6715-86a9-467e-8d8f-ca051242fc84"
  },
  {
   "cell_type": "markdown",
   "metadata": {},
   "source": [
    "## Combine all model runs"
   ],
   "id": "95e8bf22-3b7c-4b42-b65f-e94f0d2f6e87"
  },
  {
   "cell_type": "code",
   "execution_count": null,
   "metadata": {},
   "outputs": [],
   "source": [
    "final_results <- models %>%\n",
    "  mutate(output = map(model, ~ as.data.frame(.x$BUGSoutput$sims.matrix) %>%\n",
    "                       select(\"Agriculture\" = `p.global[1]`, \"Forest\" = `p.global[2]`)\n",
    "                     )) %>%\n",
    "  unnest(output)\n",
    "\n",
    "write_csv(x = final_results, file = here::here(\"./notebooks/Mixtures_transect/transect_final_results.csv\"))\n"
   ],
   "id": "a4eb7018-2ffa-4e22-8a37-89893def8408"
  },
  {
   "cell_type": "markdown",
   "metadata": {},
   "source": [
    "## Sneek peek"
   ],
   "id": "742f3e6e-d9f1-463d-9c84-a755f3898a97"
  },
  {
   "cell_type": "code",
   "execution_count": null,
   "metadata": {},
   "outputs": [
    {
     "output_type": "display_data",
     "metadata": {},
     "data": {
      "image/png": "[encoded data removed]"
     }
    }
   ],
   "source": [
    "ggplot(data = final_results, aes(x = as.factor(prop_forest), y = Agriculture)) +\n",
    "  geom_boxplot() +\n",
    "  theme_bw() +\n",
    "  scale_y_continuous(expand = c(0,0.01))\n"
   ],
   "id": "8938bf62-13c2-4a7a-b676-544a95f0da19"
  }
 ],
 "nbformat": 4,
 "nbformat_minor": 5,
 "metadata": {}
}
