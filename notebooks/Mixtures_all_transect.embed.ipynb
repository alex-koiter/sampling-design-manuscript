{
 "cells": [
  {
   "cell_type": "markdown",
   "metadata": {},
   "source": [
    "# MixSIAR results- Transect source, composite mixture\n",
    "\n",
    "Alex Koiter\n",
    "\n",
    "## Load Libraries"
   ],
   "id": "1ccf9e52-98a8-433f-9df9-aed3dc170745"
  },
  {
   "cell_type": "code",
   "execution_count": null,
   "metadata": {},
   "outputs": [
    {
     "output_type": "stream",
     "name": "stderr",
     "text": [
      "── Attaching core tidyverse packages ──────────────────────── tidyverse 2.0.0 ──\n",
      "✔ dplyr     1.1.4     ✔ readr     2.1.4\n",
      "✔ forcats   1.0.0     ✔ stringr   1.5.1\n",
      "✔ ggplot2   3.5.0     ✔ tibble    3.2.1\n",
      "✔ lubridate 1.9.2     ✔ tidyr     1.3.1\n",
      "✔ purrr     1.0.2     \n",
      "── Conflicts ────────────────────────────────────────── tidyverse_conflicts() ──\n",
      "✖ dplyr::filter() masks stats::filter()\n",
      "✖ dplyr::lag()    masks stats::lag()\n",
      "ℹ Use the conflicted package (<http://conflicted.r-lib.org/>) to force all conflicts to become errors"
     ]
    }
   ],
   "source": [
    "library(tidyverse)"
   ],
   "id": "bbea8d24-25be-40b3-a6d4-34eae15cd92c"
  },
  {
   "cell_type": "markdown",
   "metadata": {},
   "source": [
    "## Fingerprints"
   ],
   "id": "9f685f4f-2ce5-4930-8b0b-1cc8f7b8e885"
  },
  {
   "cell_type": "code",
   "execution_count": null,
   "metadata": {},
   "outputs": [],
   "source": [
    "fingerprints <- c(\"Fe\", \"a_col\", \"Co\")"
   ],
   "id": "55f966cc-2970-4335-a0cc-75e3ae7554f2"
  },
  {
   "cell_type": "markdown",
   "metadata": {},
   "source": [
    "# \\# Load in data"
   ],
   "id": "775f936f-ccd4-4843-82ab-0149ddb2f49f"
  },
  {
   "cell_type": "code",
   "execution_count": null,
   "metadata": {},
   "outputs": [],
   "source": [
    "geo_results <- read.csv(here::here(\"./notebooks/Geochemistry analysis - Copy 2.csv\")) %>%\n",
    "  pivot_longer(cols = Ag:Zr, names_to = \"Fingerprint\", values_to = \"value\") %>%\n",
    "  filter(Fingerprint %in% c(\"Ag\", \"Al\", \"As\",\"B\",\"Ba\",\"Be\",\"Bi\",\"Ca\",\"Cd\",\"Ce\",\"Co\", \"Cr\", \"Cs\", \"Cu\", \"Fe\", \"Ga\", \"Hf\", \"Hg\", \"In\", \"K\", \"La\", \"Li\", \"Mg\", \"Mn\", \"Mo\", \"Nb\", \"Ni\", \"P\", \"Pb\", \"Rb\", \"S\", \"Sb\", \"Sc\", \"Se\", \"Sn\", \"Sr\", \"Te\", \"Th\", \"Tl\", \"U\", \"V\", \"Y\", \"Zn\", \"Zr\")) %>% # excludes fingerprints that are below level of detection\n",
    "  dplyr::select(-X) %>% # don't need this column\n",
    "  filter(sample_design %in% c(\"Grid\", \"Transect\", \"Likely to erode\")) \n",
    "\n",
    "col_results <- read.csv(here::here(\"./notebooks/final results revised.csv\")) %>%\n",
    "  pivot_longer(cols = X:B, names_to = \"Fingerprint\", values_to = \"value\") %>%\n",
    "  dplyr::select(-X.1) %>% # don't need this column\n",
    "  filter(sample_design %in% c(\"Grid\", \"Transect\", \"Likely to erode\")) %>%\n",
    "  mutate(Fingerprint = paste0(Fingerprint, \"_col\")) # appended _col as some of the colour coefficients have the same id eg Boron = B and Blue also = B\n",
    "\n",
    "\n",
    "# Bind data sets\n",
    "results <- geo_results %>%\n",
    "  bind_rows(col_results) %>%\n",
    "  filter(Fingerprint %in% fingerprints)"
   ],
   "id": "cd53150f-679a-443c-8507-d1a249b25172"
  },
  {
   "cell_type": "markdown",
   "metadata": {},
   "source": [
    "## Virtual mixtures"
   ],
   "id": "eb7612b7-807f-4b20-aa0a-4cb36735800a"
  },
  {
   "cell_type": "code",
   "execution_count": null,
   "metadata": {},
   "outputs": [
    {
     "output_type": "stream",
     "name": "stderr",
     "text": [
      "`summarise()` has grouped output by 'Fingerprint'. You can override using the\n",
      "`.groups` argument.\n",
      "`summarise()` has grouped output by 'Fingerprint', 'Agriculture'. You can\n",
      "override using the `.groups` argument."
     ]
    }
   ],
   "source": [
    "proportions <- seq(0, 1, 0.05)\n",
    "\n",
    "mixtures <- results %>%\n",
    "  filter(sample_design %in% c(\"Grid\", \"Likely to erode\")) %>% # excluded transects as the transects are contained with in the grid this gives us all unique samples \n",
    "  group_by(Fingerprint, site) %>%\n",
    "  summarise(avg =  mean(value)) %>%\n",
    "  pivot_wider(names_from = site, values_from = avg) %>%\n",
    "  mutate(mix_ag = map(Agriculture, ~.x * (1 - proportions)),\n",
    "         mix_forest = map(Forest, ~.x * proportions)) %>%\n",
    "  group_by(Fingerprint, Agriculture, Forest) %>%\n",
    "  summarize(mix = map2(mix_ag, mix_forest, ~data.frame(mix = .x + .y, prop_forest = proportions))) %>%\n",
    "  unnest(mix) %>%\n",
    "  pivot_wider(id_cols = prop_forest, names_from = Fingerprint, values_from = mix) %>%\n",
    "  nest(.by = prop_forest) %>%\n",
    "  mutate(path = here::here(paste0(\"./notebooks/Mixtures_all_transect/\", prop_forest, \".csv\")))"
   ],
   "id": "ae33f2d6-29c3-4147-8297-d487de7d433e"
  },
  {
   "cell_type": "markdown",
   "metadata": {},
   "source": [
    "## Sources"
   ],
   "id": "05dcd4c3-4a76-454e-99e3-cf0dfe180acd"
  },
  {
   "cell_type": "code",
   "execution_count": null,
   "metadata": {},
   "outputs": [
    {
     "output_type": "stream",
     "name": "stderr",
     "text": [
      "`summarise()` has grouped output by 'site'. You can override using the\n",
      "`.groups` argument."
     ]
    }
   ],
   "source": [
    "sources <- results %>%\n",
    "  filter(sample_design == \"Transect\") %>%\n",
    "  group_by(site, Fingerprint) %>%\n",
    "  summarise(Mean = mean(value),\n",
    "            SD = sd(value)) %>%\n",
    "  pivot_longer(cols = c(\"Mean\", \"SD\"), names_to = \"parameter\", values_to = \"value\") %>%\n",
    "  mutate(variable = paste0(parameter, Fingerprint), parameter = NULL, Fingerprint = NULL) %>%\n",
    "  pivot_wider(names_from = variable, values_from = value) %>%\n",
    "  mutate(n = 14) %>%\n",
    "  ungroup()"
   ],
   "id": "1eeba8c4-8ec8-4a80-ba34-c48ded2ef595"
  },
  {
   "cell_type": "markdown",
   "metadata": {},
   "source": [
    "## TEF"
   ],
   "id": "16b04911-9900-47fd-89b4-cbdc89a7f01f"
  },
  {
   "cell_type": "code",
   "execution_count": null,
   "metadata": {},
   "outputs": [],
   "source": [
    "tef <- mutate(sources, across(where(is.numeric), ~0)) %>%\n",
    "  select(-n)\n",
    "write_csv(x = tef, file = here::here(\"./notebooks/Mixtures_all_transect/tef.csv\"))"
   ],
   "id": "04fe1838-134b-4556-acaa-71fca3a09363"
  },
  {
   "cell_type": "markdown",
   "metadata": {},
   "source": [
    "## Unmixing"
   ],
   "id": "a1335b8c-69f9-4bc1-a476-07ee1749b60d"
  },
  {
   "cell_type": "code",
   "execution_count": null,
   "metadata": {},
   "outputs": [
    {
     "output_type": "stream",
     "name": "stderr",
     "text": [
      "module glm loaded"
     ]
    },
    {
     "output_type": "stream",
     "name": "stdout",
     "text": [
      "Compiling model graph\n",
      "   Resolving undeclared variables\n",
      "   Allocating nodes\n",
      "Graph information:\n",
      "   Observed stochastic nodes: 3\n",
      "   Unobserved stochastic nodes: 13\n",
      "   Total graph size: 136\n",
      "\n",
      "Initializing model\n",
      "\n",
      "Compiling model graph\n",
      "   Resolving undeclared variables\n",
      "   Allocating nodes\n",
      "Graph information:\n",
      "   Observed stochastic nodes: 3\n",
      "   Unobserved stochastic nodes: 13\n",
      "   Total graph size: 136\n",
      "\n",
      "Initializing model\n",
      "\n",
      "Compiling model graph\n",
      "   Resolving undeclared variables\n",
      "   Allocating nodes\n",
      "Graph information:\n",
      "   Observed stochastic nodes: 3\n",
      "   Unobserved stochastic nodes: 13\n",
      "   Total graph size: 136\n",
      "\n",
      "Initializing model\n",
      "\n",
      "Compiling model graph\n",
      "   Resolving undeclared variables\n",
      "   Allocating nodes\n",
      "Graph information:\n",
      "   Observed stochastic nodes: 3\n",
      "   Unobserved stochastic nodes: 13\n",
      "   Total graph size: 136\n",
      "\n",
      "Initializing model\n",
      "\n",
      "Compiling model graph\n",
      "   Resolving undeclared variables\n",
      "   Allocating nodes\n",
      "Graph information:\n",
      "   Observed stochastic nodes: 3\n",
      "   Unobserved stochastic nodes: 13\n",
      "   Total graph size: 136\n",
      "\n",
      "Initializing model\n",
      "\n",
      "Compiling model graph\n",
      "   Resolving undeclared variables\n",
      "   Allocating nodes\n",
      "Graph information:\n",
      "   Observed stochastic nodes: 3\n",
      "   Unobserved stochastic nodes: 13\n",
      "   Total graph size: 136\n",
      "\n",
      "Initializing model\n",
      "\n",
      "Compiling model graph\n",
      "   Resolving undeclared variables\n",
      "   Allocating nodes\n",
      "Graph information:\n",
      "   Observed stochastic nodes: 3\n",
      "   Unobserved stochastic nodes: 13\n",
      "   Total graph size: 136\n",
      "\n",
      "Initializing model\n",
      "\n",
      "Compiling model graph\n",
      "   Resolving undeclared variables\n",
      "   Allocating nodes\n",
      "Graph information:\n",
      "   Observed stochastic nodes: 3\n",
      "   Unobserved stochastic nodes: 13\n",
      "   Total graph size: 136\n",
      "\n",
      "Initializing model\n",
      "\n",
      "Compiling model graph\n",
      "   Resolving undeclared variables\n",
      "   Allocating nodes\n",
      "Graph information:\n",
      "   Observed stochastic nodes: 3\n",
      "   Unobserved stochastic nodes: 13\n",
      "   Total graph size: 136\n",
      "\n",
      "Initializing model\n",
      "\n",
      "Compiling model graph\n",
      "   Resolving undeclared variables\n",
      "   Allocating nodes\n",
      "Graph information:\n",
      "   Observed stochastic nodes: 3\n",
      "   Unobserved stochastic nodes: 13\n",
      "   Total graph size: 136\n",
      "\n",
      "Initializing model\n",
      "\n",
      "Compiling model graph\n",
      "   Resolving undeclared variables\n",
      "   Allocating nodes\n",
      "Graph information:\n",
      "   Observed stochastic nodes: 3\n",
      "   Unobserved stochastic nodes: 13\n",
      "   Total graph size: 136\n",
      "\n",
      "Initializing model\n",
      "\n",
      "Compiling model graph\n",
      "   Resolving undeclared variables\n",
      "   Allocating nodes\n",
      "Graph information:\n",
      "   Observed stochastic nodes: 3\n",
      "   Unobserved stochastic nodes: 13\n",
      "   Total graph size: 136\n",
      "\n",
      "Initializing model\n",
      "\n",
      "Compiling model graph\n",
      "   Resolving undeclared variables\n",
      "   Allocating nodes\n",
      "Graph information:\n",
      "   Observed stochastic nodes: 3\n",
      "   Unobserved stochastic nodes: 13\n",
      "   Total graph size: 136\n",
      "\n",
      "Initializing model\n",
      "\n",
      "Compiling model graph\n",
      "   Resolving undeclared variables\n",
      "   Allocating nodes\n",
      "Graph information:\n",
      "   Observed stochastic nodes: 3\n",
      "   Unobserved stochastic nodes: 13\n",
      "   Total graph size: 136\n",
      "\n",
      "Initializing model\n",
      "\n",
      "Compiling model graph\n",
      "   Resolving undeclared variables\n",
      "   Allocating nodes\n",
      "Graph information:\n",
      "   Observed stochastic nodes: 3\n",
      "   Unobserved stochastic nodes: 13\n",
      "   Total graph size: 136\n",
      "\n",
      "Initializing model\n",
      "\n",
      "Compiling model graph\n",
      "   Resolving undeclared variables\n",
      "   Allocating nodes\n",
      "Graph information:\n",
      "   Observed stochastic nodes: 3\n",
      "   Unobserved stochastic nodes: 13\n",
      "   Total graph size: 136\n",
      "\n",
      "Initializing model\n",
      "\n",
      "Compiling model graph\n",
      "   Resolving undeclared variables\n",
      "   Allocating nodes\n",
      "Graph information:\n",
      "   Observed stochastic nodes: 3\n",
      "   Unobserved stochastic nodes: 13\n",
      "   Total graph size: 136\n",
      "\n",
      "Initializing model\n",
      "\n",
      "Compiling model graph\n",
      "   Resolving undeclared variables\n",
      "   Allocating nodes\n",
      "Graph information:\n",
      "   Observed stochastic nodes: 3\n",
      "   Unobserved stochastic nodes: 13\n",
      "   Total graph size: 136\n",
      "\n",
      "Initializing model\n",
      "\n",
      "Compiling model graph\n",
      "   Resolving undeclared variables\n",
      "   Allocating nodes\n",
      "Graph information:\n",
      "   Observed stochastic nodes: 3\n",
      "   Unobserved stochastic nodes: 13\n",
      "   Total graph size: 136\n",
      "\n",
      "Initializing model\n",
      "\n",
      "Compiling model graph\n",
      "   Resolving undeclared variables\n",
      "   Allocating nodes\n",
      "Graph information:\n",
      "   Observed stochastic nodes: 3\n",
      "   Unobserved stochastic nodes: 13\n",
      "   Total graph size: 136\n",
      "\n",
      "Initializing model\n",
      "\n",
      "Compiling model graph\n",
      "   Resolving undeclared variables\n",
      "   Allocating nodes\n",
      "Graph information:\n",
      "   Observed stochastic nodes: 3\n",
      "   Unobserved stochastic nodes: 13\n",
      "   Total graph size: 136\n",
      "\n",
      "Initializing model"
     ]
    }
   ],
   "source": [
    "model_run <- mixtures |>\n",
    "  mutate(\n",
    "    mix = map(path, ~load_mix_data(filename = .x,\n",
    "                                   iso_names = fingerprints,\n",
    "                                   factors = NULL,\n",
    "                                   fac_random = NULL,\n",
    "                                   fac_nested = NULL,\n",
    "                                   cont_effects = NULL)),\n",
    "    source = map(mix, ~load_source_data(filename = here::here(\"./notebooks/Mixtures_all_transect/source.csv\"),\n",
    "                                        source_factors = NULL, \n",
    "                                        conc_dep = FALSE, \n",
    "                                        data_type = \"means\", \n",
    "                                        .x)),\n",
    "    discr = map(mix, ~load_discr_data(filename = here::here(\"./notebooks/Mixtures_all_transect/tef.csv\"), .x)))\n",
    "\n",
    "model_run <- model_run |> \n",
    "  mutate(filename = here::here(paste0(\"./notebooks/Mixtures_all_transect/MixSIAR_\", prop_forest, \".txt\")))\n",
    "\n",
    "model_run |>\n",
    "  select(filename, mix, source) |>\n",
    "  mutate(resid_err = FALSE, process_err = TRUE) |>\n",
    "  pwalk(write_JAGS_model)\n",
    "\n",
    "models <- model_run %>%\n",
    "  select(prop_forest, mix, source, discr, model_filename = filename) %>%\n",
    "  mutate(run = \"normal\", alpha.prior = 1) %>%\n",
    "  #slice(1:2) %>%\n",
    "  mutate(model = pmap(.l = select(., -prop_forest), run_model))"
   ],
   "id": "c026cc58-5504-412a-91fc-9362bf7f12f8"
  },
  {
   "cell_type": "markdown",
   "metadata": {},
   "source": [
    "## Combine all model runs"
   ],
   "id": "93293d83-22eb-43d1-b404-e41a277c3d37"
  },
  {
   "cell_type": "code",
   "execution_count": null,
   "metadata": {},
   "outputs": [],
   "source": [
    "final_results <- models %>%\n",
    "  mutate(output = map(model, ~ as.data.frame(.x$BUGSoutput$sims.matrix) %>%\n",
    "                       select(\"Agriculture\" = `p.global[1]`, \"Forest\" = `p.global[2]`)\n",
    "                     )) %>%\n",
    "  unnest(output)\n",
    "\n",
    "write_csv(x = final_results, file = here::here(\"./notebooks/Mixtures_all_transect/transect_final_results.csv\"))"
   ],
   "id": "1ec13471-2c62-447b-97bd-d252dd0d6399"
  },
  {
   "cell_type": "markdown",
   "metadata": {},
   "source": [
    "## Sneek peek"
   ],
   "id": "1ca78d0a-ecbd-400a-b62f-ebf4c4ac23b8"
  },
  {
   "cell_type": "code",
   "execution_count": null,
   "metadata": {},
   "outputs": [
    {
     "output_type": "display_data",
     "metadata": {},
     "data": {
      "image/png": "[encoded data removed]"
     }
    }
   ],
   "source": [
    "ggplot(data = final_results, aes(x = as.factor(prop_forest), y = Agriculture)) +\n",
    "  geom_boxplot() +\n",
    "  theme_bw() +\n",
    "  scale_y_continuous(expand = c(0,0.01))"
   ],
   "id": "b3573086-0d32-4b28-8ee5-33de8cf284b1"
  }
 ],
 "nbformat": 4,
 "nbformat_minor": 5,
 "metadata": {}
}
