{
 "cells": [
  {
   "cell_type": "markdown",
   "metadata": {},
   "source": [
    "# MixSIAR results- Likely to erode source, composite mixture\n",
    "\n",
    "Alex Koiter\n",
    "\n",
    "## Load Libraries"
   ],
   "id": "32b331c6-07e8-4ee2-b257-572f6b5a3c74"
  },
  {
   "cell_type": "code",
   "execution_count": null,
   "metadata": {},
   "outputs": [
    {
     "output_type": "stream",
     "name": "stderr",
     "text": [
      "── Attaching core tidyverse packages ──────────────────────── tidyverse 2.0.0 ──\n",
      "✔ dplyr     1.1.4     ✔ readr     2.1.4\n",
      "✔ forcats   1.0.0     ✔ stringr   1.5.1\n",
      "✔ ggplot2   3.5.0     ✔ tibble    3.2.1\n",
      "✔ lubridate 1.9.2     ✔ tidyr     1.3.1\n",
      "✔ purrr     1.0.2     \n",
      "── Conflicts ────────────────────────────────────────── tidyverse_conflicts() ──\n",
      "✖ dplyr::filter() masks stats::filter()\n",
      "✖ dplyr::lag()    masks stats::lag()\n",
      "ℹ Use the conflicted package (<http://conflicted.r-lib.org/>) to force all conflicts to become errors"
     ]
    }
   ],
   "source": [
    "library(tidyverse)\n"
   ],
   "id": "28df07aa-176f-4697-8263-711c74bdb8ba"
  },
  {
   "cell_type": "markdown",
   "metadata": {},
   "source": [
    "## Fingerprints"
   ],
   "id": "bfb68c97-1220-47ec-8c9c-3da40c4ef490"
  },
  {
   "cell_type": "code",
   "execution_count": null,
   "metadata": {},
   "outputs": [],
   "source": [
    "fingerprints <- c(\"Li\", \"U\", \"Bi\")\n"
   ],
   "id": "b5b94bff-2c8d-44f3-8db0-1c4d92bf9cf2"
  },
  {
   "cell_type": "markdown",
   "metadata": {},
   "source": [
    "## Load in data"
   ],
   "id": "facbf5a8-696d-479a-a62b-55173505d391"
  },
  {
   "cell_type": "code",
   "execution_count": null,
   "metadata": {},
   "outputs": [],
   "source": [
    "geo_results <- read.csv(here::here(\"./notebooks/Geochemistry analysis - Copy 2.csv\")) %>%\n",
    "  pivot_longer(cols = Ag:Zr, names_to = \"Fingerprint\", values_to = \"value\") %>%\n",
    "  filter(Fingerprint %in% c(\"Ag\", \"Al\", \"As\",\"B\",\"Ba\",\"Be\",\"Bi\",\"Ca\",\"Cd\",\"Ce\",\"Co\", \"Cr\", \"Cs\", \"Cu\", \"Fe\", \"Ga\", \"Hf\", \"Hg\", \"In\", \"K\", \"La\", \"Li\", \"Mg\", \"Mn\", \"Mo\", \"Nb\", \"Ni\", \"P\", \"Pb\", \"Rb\", \"S\", \"Sb\", \"Sc\", \"Se\", \"Sn\", \"Sr\", \"Te\", \"Th\", \"Tl\", \"U\", \"V\", \"Y\", \"Zn\", \"Zr\")) %>% # excludes fingerprints that are below level of detection\n",
    "  dplyr::select(-X) %>% # don't need this column\n",
    "  filter(sample_design %in% c(\"Grid\", \"Transect\", \"Likely to erode\")) \n",
    "\n",
    "col_results <- read.csv(here::here(\"./notebooks/final results revised.csv\")) %>%\n",
    "  pivot_longer(cols = X:B, names_to = \"Fingerprint\", values_to = \"value\") %>%\n",
    "  dplyr::select(-X.1) %>% # don't need this column\n",
    "  filter(sample_design %in% c(\"Grid\", \"Transect\", \"Likely to erode\")) %>%\n",
    "  mutate(Fingerprint = paste0(Fingerprint, \"_col\")) # appended _col as some of the colour coefficients have the same id eg Boron = B and Blue also = B\n",
    "\n",
    "\n",
    "# Bind data sets\n",
    "results <- geo_results %>%\n",
    "  bind_rows(col_results) %>%\n",
    "  filter(Fingerprint %in% fingerprints)\n"
   ],
   "id": "42ffd403-e635-4ac5-a320-17e7c5b4858f"
  },
  {
   "cell_type": "markdown",
   "metadata": {},
   "source": [
    "## Virtual mixtures"
   ],
   "id": "656a7b84-63c8-4fce-ab38-c782dd802ace"
  },
  {
   "cell_type": "code",
   "execution_count": null,
   "metadata": {},
   "outputs": [
    {
     "output_type": "stream",
     "name": "stderr",
     "text": [
      "`summarise()` has grouped output by 'Fingerprint'. You can override using the\n",
      "`.groups` argument.\n",
      "`summarise()` has grouped output by 'Fingerprint', 'Agriculture'. You can\n",
      "override using the `.groups` argument."
     ]
    }
   ],
   "source": [
    "proportions <- seq(0, 1, 0.05)\n",
    "\n",
    "mixtures <- results %>%\n",
    "  filter(sample_design %in% c(\"Grid\", \"Likely to erode\")) %>% # excluded transects as the transects are contained with in the grid this gives us all unique samples \n",
    "  group_by(Fingerprint, site) %>%\n",
    "  summarise(avg =  mean(value)) %>%\n",
    "  pivot_wider(names_from = site, values_from = avg) %>%\n",
    "  mutate(mix_ag = map(Agriculture, ~.x * (1 - proportions)),\n",
    "         mix_forest = map(Forest, ~.x * proportions)) %>%\n",
    "  group_by(Fingerprint, Agriculture, Forest) %>%\n",
    "  summarize(mix = map2(mix_ag, mix_forest, ~data.frame(mix = .x + .y, prop_forest = proportions))) %>%\n",
    "  unnest(mix) %>%\n",
    "  pivot_wider(id_cols = prop_forest, names_from = Fingerprint, values_from = mix) %>%\n",
    "  nest(.by = prop_forest) %>%\n",
    "  mutate(path = here::here(paste0(\"./notebooks/Mixtures_all_likely/\", prop_forest, \".csv\")))\n"
   ],
   "id": "fdb53a30-fc9c-4dac-98c7-553eeadd7c07"
  },
  {
   "cell_type": "markdown",
   "metadata": {},
   "source": [
    "## Sources"
   ],
   "id": "98e54d21-49e4-40da-af2d-5aa9b8d94d4d"
  },
  {
   "cell_type": "code",
   "execution_count": null,
   "metadata": {},
   "outputs": [
    {
     "output_type": "stream",
     "name": "stderr",
     "text": [
      "`summarise()` has grouped output by 'site'. You can override using the\n",
      "`.groups` argument."
     ]
    }
   ],
   "source": [
    "sources <- results %>%\n",
    "  filter(sample_design == \"Likely to erode\") %>%\n",
    "  group_by(site, Fingerprint) %>%\n",
    "  summarise(Mean = mean(value),\n",
    "            SD = sd(value)) %>%\n",
    "  pivot_longer(cols = c(\"Mean\", \"SD\"), names_to = \"parameter\", values_to = \"value\") %>%\n",
    "  mutate(variable = paste0(parameter, Fingerprint), parameter = NULL, Fingerprint = NULL) %>%\n",
    "  pivot_wider(names_from = variable, values_from = value) %>%\n",
    "  mutate(n = 8) %>%\n",
    "  ungroup()\n"
   ],
   "id": "5bb0d21f-12cd-4b31-8c85-7e18dab1af21"
  },
  {
   "cell_type": "markdown",
   "metadata": {},
   "source": [
    "## TEF"
   ],
   "id": "8b82caae-419a-4dc8-b11c-09ae2574d6b7"
  },
  {
   "cell_type": "code",
   "execution_count": null,
   "metadata": {},
   "outputs": [],
   "source": [
    "tef <- mutate(sources, across(where(is.numeric), ~0)) %>%\n",
    "  select(-n)\n",
    "write_csv(x = tef, file = here::here(\"./notebooks/Mixtures_all_likely/tef.csv\"))\n"
   ],
   "id": "6b117d80-9c3e-4aa2-8137-1514189c3af6"
  },
  {
   "cell_type": "markdown",
   "metadata": {},
   "source": [
    "## Unmixing"
   ],
   "id": "765fa135-15c6-4bd8-be9a-3b285db00edd"
  },
  {
   "cell_type": "code",
   "execution_count": null,
   "metadata": {},
   "outputs": [
    {
     "output_type": "stream",
     "name": "stderr",
     "text": [
      "module glm loaded"
     ]
    },
    {
     "output_type": "stream",
     "name": "stdout",
     "text": [
      "Compiling model graph\n",
      "   Resolving undeclared variables\n",
      "   Allocating nodes\n",
      "Graph information:\n",
      "   Observed stochastic nodes: 3\n",
      "   Unobserved stochastic nodes: 13\n",
      "   Total graph size: 136\n",
      "\n",
      "Initializing model\n",
      "\n",
      "Compiling model graph\n",
      "   Resolving undeclared variables\n",
      "   Allocating nodes\n",
      "Graph information:\n",
      "   Observed stochastic nodes: 3\n",
      "   Unobserved stochastic nodes: 13\n",
      "   Total graph size: 136\n",
      "\n",
      "Initializing model\n",
      "\n",
      "Compiling model graph\n",
      "   Resolving undeclared variables\n",
      "   Allocating nodes\n",
      "Graph information:\n",
      "   Observed stochastic nodes: 3\n",
      "   Unobserved stochastic nodes: 13\n",
      "   Total graph size: 136\n",
      "\n",
      "Initializing model\n",
      "\n",
      "Compiling model graph\n",
      "   Resolving undeclared variables\n",
      "   Allocating nodes\n",
      "Graph information:\n",
      "   Observed stochastic nodes: 3\n",
      "   Unobserved stochastic nodes: 13\n",
      "   Total graph size: 136\n",
      "\n",
      "Initializing model\n",
      "\n",
      "Compiling model graph\n",
      "   Resolving undeclared variables\n",
      "   Allocating nodes\n",
      "Graph information:\n",
      "   Observed stochastic nodes: 3\n",
      "   Unobserved stochastic nodes: 13\n",
      "   Total graph size: 136\n",
      "\n",
      "Initializing model\n",
      "\n",
      "Compiling model graph\n",
      "   Resolving undeclared variables\n",
      "   Allocating nodes\n",
      "Graph information:\n",
      "   Observed stochastic nodes: 3\n",
      "   Unobserved stochastic nodes: 13\n",
      "   Total graph size: 136\n",
      "\n",
      "Initializing model\n",
      "\n",
      "Compiling model graph\n",
      "   Resolving undeclared variables\n",
      "   Allocating nodes\n",
      "Graph information:\n",
      "   Observed stochastic nodes: 3\n",
      "   Unobserved stochastic nodes: 13\n",
      "   Total graph size: 136\n",
      "\n",
      "Initializing model\n",
      "\n",
      "Compiling model graph\n",
      "   Resolving undeclared variables\n",
      "   Allocating nodes\n",
      "Graph information:\n",
      "   Observed stochastic nodes: 3\n",
      "   Unobserved stochastic nodes: 13\n",
      "   Total graph size: 136\n",
      "\n",
      "Initializing model\n",
      "\n",
      "Compiling model graph\n",
      "   Resolving undeclared variables\n",
      "   Allocating nodes\n",
      "Graph information:\n",
      "   Observed stochastic nodes: 3\n",
      "   Unobserved stochastic nodes: 13\n",
      "   Total graph size: 136\n",
      "\n",
      "Initializing model\n",
      "\n",
      "Compiling model graph\n",
      "   Resolving undeclared variables\n",
      "   Allocating nodes\n",
      "Graph information:\n",
      "   Observed stochastic nodes: 3\n",
      "   Unobserved stochastic nodes: 13\n",
      "   Total graph size: 136\n",
      "\n",
      "Initializing model\n",
      "\n",
      "Compiling model graph\n",
      "   Resolving undeclared variables\n",
      "   Allocating nodes\n",
      "Graph information:\n",
      "   Observed stochastic nodes: 3\n",
      "   Unobserved stochastic nodes: 13\n",
      "   Total graph size: 136\n",
      "\n",
      "Initializing model\n",
      "\n",
      "Compiling model graph\n",
      "   Resolving undeclared variables\n",
      "   Allocating nodes\n",
      "Graph information:\n",
      "   Observed stochastic nodes: 3\n",
      "   Unobserved stochastic nodes: 13\n",
      "   Total graph size: 136\n",
      "\n",
      "Initializing model\n",
      "\n",
      "Compiling model graph\n",
      "   Resolving undeclared variables\n",
      "   Allocating nodes\n",
      "Graph information:\n",
      "   Observed stochastic nodes: 3\n",
      "   Unobserved stochastic nodes: 13\n",
      "   Total graph size: 136\n",
      "\n",
      "Initializing model\n",
      "\n",
      "Compiling model graph\n",
      "   Resolving undeclared variables\n",
      "   Allocating nodes\n",
      "Graph information:\n",
      "   Observed stochastic nodes: 3\n",
      "   Unobserved stochastic nodes: 13\n",
      "   Total graph size: 136\n",
      "\n",
      "Initializing model\n",
      "\n",
      "Compiling model graph\n",
      "   Resolving undeclared variables\n",
      "   Allocating nodes\n",
      "Graph information:\n",
      "   Observed stochastic nodes: 3\n",
      "   Unobserved stochastic nodes: 13\n",
      "   Total graph size: 136\n",
      "\n",
      "Initializing model\n",
      "\n",
      "Compiling model graph\n",
      "   Resolving undeclared variables\n",
      "   Allocating nodes\n",
      "Graph information:\n",
      "   Observed stochastic nodes: 3\n",
      "   Unobserved stochastic nodes: 13\n",
      "   Total graph size: 136\n",
      "\n",
      "Initializing model\n",
      "\n",
      "Compiling model graph\n",
      "   Resolving undeclared variables\n",
      "   Allocating nodes\n",
      "Graph information:\n",
      "   Observed stochastic nodes: 3\n",
      "   Unobserved stochastic nodes: 13\n",
      "   Total graph size: 136\n",
      "\n",
      "Initializing model\n",
      "\n",
      "Compiling model graph\n",
      "   Resolving undeclared variables\n",
      "   Allocating nodes\n",
      "Graph information:\n",
      "   Observed stochastic nodes: 3\n",
      "   Unobserved stochastic nodes: 13\n",
      "   Total graph size: 136\n",
      "\n",
      "Initializing model\n",
      "\n",
      "Compiling model graph\n",
      "   Resolving undeclared variables\n",
      "   Allocating nodes\n",
      "Graph information:\n",
      "   Observed stochastic nodes: 3\n",
      "   Unobserved stochastic nodes: 13\n",
      "   Total graph size: 136\n",
      "\n",
      "Initializing model\n",
      "\n",
      "Compiling model graph\n",
      "   Resolving undeclared variables\n",
      "   Allocating nodes\n",
      "Graph information:\n",
      "   Observed stochastic nodes: 3\n",
      "   Unobserved stochastic nodes: 13\n",
      "   Total graph size: 136\n",
      "\n",
      "Initializing model\n",
      "\n",
      "Compiling model graph\n",
      "   Resolving undeclared variables\n",
      "   Allocating nodes\n",
      "Graph information:\n",
      "   Observed stochastic nodes: 3\n",
      "   Unobserved stochastic nodes: 13\n",
      "   Total graph size: 136\n",
      "\n",
      "Initializing model"
     ]
    }
   ],
   "source": [
    "model_run <- mixtures |>\n",
    "  mutate(\n",
    "    mix = map(path, ~load_mix_data(filename = .x,\n",
    "                                   iso_names = fingerprints,\n",
    "                                   factors = NULL,\n",
    "                                   fac_random = NULL,\n",
    "                                   fac_nested = NULL,\n",
    "                                   cont_effects = NULL)),\n",
    "    source = map(mix, ~load_source_data(filename = here::here(\"./notebooks/Mixtures_all_likely/source.csv\"),\n",
    "                                        source_factors = NULL, \n",
    "                                        conc_dep = FALSE, \n",
    "                                        data_type = \"means\", \n",
    "                                        .x)),\n",
    "    discr = map(mix, ~load_discr_data(filename = here::here(\"./notebooks/Mixtures_all_likely/tef.csv\"), .x)))\n",
    "\n",
    "model_run <- model_run |> \n",
    "  mutate(filename = here::here(paste0(\"./notebooks/Mixtures_all_likely/MixSIAR_\", prop_forest, \".txt\")))\n",
    "\n",
    "model_run |>\n",
    "  select(filename, mix, source) |>\n",
    "  mutate(resid_err = FALSE, process_err = TRUE) |>\n",
    "  pwalk(write_JAGS_model)\n",
    "\n",
    "models <- model_run %>%\n",
    "  select(prop_forest, mix, source, discr, model_filename = filename) %>%\n",
    "  mutate(run = \"normal\", alpha.prior = 1) %>%\n",
    "  #slice(1:2) %>%\n",
    "  mutate(model = pmap(.l = select(., -prop_forest), run_model))\n"
   ],
   "id": "aee71a5e-e679-43bb-9519-e4dd83f7241f"
  },
  {
   "cell_type": "markdown",
   "metadata": {},
   "source": [
    "## Combine all model runs"
   ],
   "id": "a739525f-67cd-4822-af08-64b68dd203ba"
  },
  {
   "cell_type": "code",
   "execution_count": null,
   "metadata": {},
   "outputs": [],
   "source": [
    "final_results <- models %>%\n",
    "  mutate(output = map(model, ~ as.data.frame(.x$BUGSoutput$sims.matrix) %>%\n",
    "                       select(\"Agriculture\" = `p.global[1]`, \"Forest\" = `p.global[2]`)\n",
    "                     )) %>%\n",
    "  unnest(output)\n",
    "\n",
    "write_csv(x = final_results, file = here::here(\"./notebooks/Mixtures_all_likely/likely_final_results.csv\"))\n"
   ],
   "id": "3ccc0e72-f2e5-4733-be31-e1c85f8cb26b"
  },
  {
   "cell_type": "markdown",
   "metadata": {},
   "source": [
    "## Sneek peek"
   ],
   "id": "7bb2dbbd-82a6-49dc-b6b6-5c12a4269308"
  },
  {
   "cell_type": "code",
   "execution_count": null,
   "metadata": {},
   "outputs": [
    {
     "output_type": "display_data",
     "metadata": {},
     "data": {
      "image/png": "[encoded data removed]"
     }
    }
   ],
   "source": [
    "ggplot(data = final_results, aes(x = as.factor(prop_forest), y = Agriculture)) +\n",
    "  geom_boxplot() +\n",
    "  theme_bw() +\n",
    "  scale_y_continuous(expand = c(0,0.01))\n"
   ],
   "id": "2b971247-ebc5-4244-a7a1-c718171862af"
  }
 ],
 "nbformat": 4,
 "nbformat_minor": 5,
 "metadata": {}
}
