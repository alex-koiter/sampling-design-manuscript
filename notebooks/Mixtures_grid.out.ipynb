{
 "cells": [
  {
   "cell_type": "markdown",
   "metadata": {},
   "source": [
    "# MixSIAR results- Grid source, design specific mixture\n",
    "\n",
    "Alex Koiter\n",
    "\n",
    "## Load Libraries"
   ],
   "id": "3c98c20e-062c-432a-b667-ef6039c317c7"
  },
  {
   "cell_type": "code",
   "execution_count": null,
   "metadata": {},
   "outputs": [
    {
     "output_type": "stream",
     "name": "stderr",
     "text": [
      "── Attaching core tidyverse packages ──────────────────────── tidyverse 2.0.0 ──\n",
      "✔ dplyr     1.1.4     ✔ readr     2.1.4\n",
      "✔ forcats   1.0.0     ✔ stringr   1.5.1\n",
      "✔ ggplot2   3.5.0     ✔ tibble    3.2.1\n",
      "✔ lubridate 1.9.2     ✔ tidyr     1.3.1\n",
      "✔ purrr     1.0.2     \n",
      "── Conflicts ────────────────────────────────────────── tidyverse_conflicts() ──\n",
      "✖ dplyr::filter() masks stats::filter()\n",
      "✖ dplyr::lag()    masks stats::lag()\n",
      "ℹ Use the conflicted package (<http://conflicted.r-lib.org/>) to force all conflicts to become errors"
     ]
    }
   ],
   "source": [
    "library(tidyverse)\n"
   ],
   "id": "753be4dc-f575-4879-91dc-15c922f96765"
  },
  {
   "cell_type": "markdown",
   "metadata": {},
   "source": [
    "## Fingerprints"
   ],
   "id": "d756263e-ac3b-445a-a26a-eb46583e3330"
  },
  {
   "cell_type": "code",
   "execution_count": null,
   "metadata": {},
   "outputs": [],
   "source": [
    "fingerprints <- c(\"Li\", \"a_col\", \"Fe\", \"Co\", \"Hg\", \"x_col\", \"Cs\", \"La\", \"Ni\", \"Nb\", \"h_col\", \"b_col\", \"Rb\", \"Ca\", \"Sr\", \"c_col\")\n"
   ],
   "id": "ef60c3e9-feaa-4606-9a76-f3cba989f363"
  },
  {
   "cell_type": "markdown",
   "metadata": {},
   "source": [
    "## Load in data"
   ],
   "id": "edf7f7e3-e54e-461f-a13f-1e6227a36956"
  },
  {
   "cell_type": "code",
   "execution_count": null,
   "metadata": {},
   "outputs": [],
   "source": [
    "geo_results <- read.csv(here::here(\"./notebooks/Geochemistry analysis - Copy 2.csv\")) %>%\n",
    "  pivot_longer(cols = Ag:Zr, names_to = \"Fingerprint\", values_to = \"value\") %>%\n",
    "  filter(Fingerprint %in% c(\"Ag\", \"Al\", \"As\",\"B\",\"Ba\",\"Be\",\"Bi\",\"Ca\",\"Cd\",\"Ce\",\"Co\", \"Cr\", \"Cs\", \"Cu\", \"Fe\", \"Ga\", \"Hf\", \"Hg\", \"In\", \"K\", \"La\", \"Li\", \"Mg\", \"Mn\", \"Mo\", \"Nb\", \"Ni\", \"P\", \"Pb\", \"Rb\", \"S\", \"Sb\", \"Sc\", \"Se\", \"Sn\", \"Sr\", \"Te\", \"Th\", \"Tl\", \"U\", \"V\", \"Y\", \"Zn\", \"Zr\")) %>% # excludes fingerprints that are below level of detection\n",
    "  dplyr::select(-X) %>% # don't need this column\n",
    "  filter(sample_design %in% c(\"Grid\", \"Transect\", \"Likely to erode\")) \n",
    "\n",
    "col_results <- read.csv(here::here(\"./notebooks/final results revised.csv\")) %>%\n",
    "  pivot_longer(cols = X:B, names_to = \"Fingerprint\", values_to = \"value\") %>%\n",
    "  dplyr::select(-X.1) %>% # don't need this column\n",
    "  filter(sample_design %in% c(\"Grid\", \"Transect\", \"Likely to erode\")) %>%\n",
    "  mutate(Fingerprint = paste0(Fingerprint, \"_col\")) # appended _col as some of the colour coefficients have the same id eg Boron = B and Blue also = B\n",
    "\n",
    "\n",
    "# Bind data sets\n",
    "results <- geo_results %>%\n",
    "  bind_rows(col_results) %>%\n",
    "  filter(Fingerprint %in% fingerprints)\n"
   ],
   "id": "9f88fcc1-da72-429f-b369-b5a6e8037764"
  },
  {
   "cell_type": "markdown",
   "metadata": {},
   "source": [
    "## Virtual mixtures"
   ],
   "id": "17804908-cb9e-4889-b6d6-45c25b3ab50e"
  },
  {
   "cell_type": "code",
   "execution_count": null,
   "metadata": {},
   "outputs": [
    {
     "output_type": "stream",
     "name": "stderr",
     "text": [
      "`summarise()` has grouped output by 'Fingerprint'. You can override using the\n",
      "`.groups` argument.\n",
      "`summarise()` has grouped output by 'Fingerprint', 'Agriculture'. You can\n",
      "override using the `.groups` argument."
     ]
    },
    {
     "output_type": "stream",
     "name": "stderr",
     "text": [
      "Warning: The `path` argument of `write_csv()` is deprecated as of readr 1.4.0.\n",
      "ℹ Please use the `file` argument instead.\n",
      "ℹ The deprecated feature was likely used in the purrr package.\n",
      "  Please report the issue at <https://github.com/tidyverse/purrr/issues>."
     ]
    }
   ],
   "source": [
    "proportions <- seq(0, 1, 0.05)\n",
    "\n",
    "mixtures <- results %>%\n",
    "  filter(sample_design %in% c(\"Grid\")) %>% \n",
    "  group_by(Fingerprint, site) %>%\n",
    "  summarise(avg =  mean(value)) %>%\n",
    "  pivot_wider(names_from = site, values_from = avg) %>%\n",
    "  mutate(mix_ag = map(Agriculture, ~.x * (1 - proportions)),\n",
    "         mix_forest = map(Forest, ~.x * proportions)) %>%\n",
    "  group_by(Fingerprint, Agriculture, Forest) %>%\n",
    "  summarize(mix = map2(mix_ag, mix_forest, ~data.frame(mix = .x + .y, prop_forest = proportions))) %>%\n",
    "  unnest(mix) %>%\n",
    "  pivot_wider(id_cols = prop_forest, names_from = Fingerprint, values_from = mix) %>%\n",
    "  nest(.by = prop_forest) %>%\n",
    "  mutate(path = here::here(paste0(\"./notebooks/Mixtures_grid/\", prop_forest, \".csv\")))\n"
   ],
   "id": "77f951be-8a0f-4042-bff5-52c1b2eec253"
  },
  {
   "cell_type": "markdown",
   "metadata": {},
   "source": [
    "## Sources"
   ],
   "id": "a13e46c0-9efe-4155-aa27-86ce74a833d9"
  },
  {
   "cell_type": "code",
   "execution_count": null,
   "metadata": {},
   "outputs": [
    {
     "output_type": "stream",
     "name": "stderr",
     "text": [
      "`summarise()` has grouped output by 'site'. You can override using the\n",
      "`.groups` argument."
     ]
    }
   ],
   "source": [
    "sources <- results %>%\n",
    "  filter(sample_design == \"Grid\") %>%\n",
    "  group_by(site, Fingerprint) %>%\n",
    "  summarise(Mean = mean(value),\n",
    "            SD = sd(value)) %>%\n",
    "  pivot_longer(cols = c(\"Mean\", \"SD\"), names_to = \"parameter\", values_to = \"value\") %>%\n",
    "  mutate(variable = paste0(parameter, Fingerprint), parameter = NULL, Fingerprint = NULL) %>%\n",
    "  pivot_wider(names_from = variable, values_from = value) %>%\n",
    "  mutate(n = 49) %>%\n",
    "  ungroup()\n"
   ],
   "id": "235ab01a-096a-448d-b0e7-8cd0d1085de4"
  },
  {
   "cell_type": "markdown",
   "metadata": {},
   "source": [
    "## TEF"
   ],
   "id": "634a7adb-cf54-4982-869c-39d6d8683a0a"
  },
  {
   "cell_type": "code",
   "execution_count": null,
   "metadata": {},
   "outputs": [],
   "source": [
    "tef <- mutate(sources, across(where(is.numeric), ~0)) %>%\n",
    "  select(-n)\n",
    "write_csv(x = tef, file = here::here(\"./notebooks/Mixtures_grid/tef.csv\"))\n"
   ],
   "id": "833b7d51-48a9-4691-b98d-54817cfd2102"
  },
  {
   "cell_type": "markdown",
   "metadata": {},
   "source": [
    "## unmixing"
   ],
   "id": "a08fb914-0093-4701-aad7-285d5c59a3d1"
  },
  {
   "cell_type": "code",
   "execution_count": null,
   "metadata": {},
   "outputs": [
    {
     "output_type": "stream",
     "name": "stderr",
     "text": [
      "module glm loaded"
     ]
    },
    {
     "output_type": "stream",
     "name": "stdout",
     "text": [
      "Compiling model graph\n",
      "   Resolving undeclared variables\n",
      "   Allocating nodes\n",
      "Graph information:\n",
      "   Observed stochastic nodes: 16\n",
      "   Unobserved stochastic nodes: 65\n",
      "   Total graph size: 526\n",
      "\n",
      "Initializing model\n",
      "\n",
      "Compiling model graph\n",
      "   Resolving undeclared variables\n",
      "   Allocating nodes\n",
      "Graph information:\n",
      "   Observed stochastic nodes: 16\n",
      "   Unobserved stochastic nodes: 65\n",
      "   Total graph size: 526\n",
      "\n",
      "Initializing model\n",
      "\n",
      "Compiling model graph\n",
      "   Resolving undeclared variables\n",
      "   Allocating nodes\n",
      "Graph information:\n",
      "   Observed stochastic nodes: 16\n",
      "   Unobserved stochastic nodes: 65\n",
      "   Total graph size: 526\n",
      "\n",
      "Initializing model\n",
      "\n",
      "Compiling model graph\n",
      "   Resolving undeclared variables\n",
      "   Allocating nodes\n",
      "Graph information:\n",
      "   Observed stochastic nodes: 16\n",
      "   Unobserved stochastic nodes: 65\n",
      "   Total graph size: 526\n",
      "\n",
      "Initializing model\n",
      "\n",
      "Compiling model graph\n",
      "   Resolving undeclared variables\n",
      "   Allocating nodes\n",
      "Graph information:\n",
      "   Observed stochastic nodes: 16\n",
      "   Unobserved stochastic nodes: 65\n",
      "   Total graph size: 526\n",
      "\n",
      "Initializing model\n",
      "\n",
      "Compiling model graph\n",
      "   Resolving undeclared variables\n",
      "   Allocating nodes\n",
      "Graph information:\n",
      "   Observed stochastic nodes: 16\n",
      "   Unobserved stochastic nodes: 65\n",
      "   Total graph size: 526\n",
      "\n",
      "Initializing model\n",
      "\n",
      "Compiling model graph\n",
      "   Resolving undeclared variables\n",
      "   Allocating nodes\n",
      "Graph information:\n",
      "   Observed stochastic nodes: 16\n",
      "   Unobserved stochastic nodes: 65\n",
      "   Total graph size: 526\n",
      "\n",
      "Initializing model\n",
      "\n",
      "Compiling model graph\n",
      "   Resolving undeclared variables\n",
      "   Allocating nodes\n",
      "Graph information:\n",
      "   Observed stochastic nodes: 16\n",
      "   Unobserved stochastic nodes: 65\n",
      "   Total graph size: 526\n",
      "\n",
      "Initializing model\n",
      "\n",
      "Compiling model graph\n",
      "   Resolving undeclared variables\n",
      "   Allocating nodes\n",
      "Graph information:\n",
      "   Observed stochastic nodes: 16\n",
      "   Unobserved stochastic nodes: 65\n",
      "   Total graph size: 526\n",
      "\n",
      "Initializing model\n",
      "\n",
      "Compiling model graph\n",
      "   Resolving undeclared variables\n",
      "   Allocating nodes\n",
      "Graph information:\n",
      "   Observed stochastic nodes: 16\n",
      "   Unobserved stochastic nodes: 65\n",
      "   Total graph size: 526\n",
      "\n",
      "Initializing model\n",
      "\n",
      "Compiling model graph\n",
      "   Resolving undeclared variables\n",
      "   Allocating nodes\n",
      "Graph information:\n",
      "   Observed stochastic nodes: 16\n",
      "   Unobserved stochastic nodes: 65\n",
      "   Total graph size: 526\n",
      "\n",
      "Initializing model\n",
      "\n",
      "Compiling model graph\n",
      "   Resolving undeclared variables\n",
      "   Allocating nodes\n",
      "Graph information:\n",
      "   Observed stochastic nodes: 16\n",
      "   Unobserved stochastic nodes: 65\n",
      "   Total graph size: 526\n",
      "\n",
      "Initializing model\n",
      "\n",
      "Compiling model graph\n",
      "   Resolving undeclared variables\n",
      "   Allocating nodes\n",
      "Graph information:\n",
      "   Observed stochastic nodes: 16\n",
      "   Unobserved stochastic nodes: 65\n",
      "   Total graph size: 526\n",
      "\n",
      "Initializing model\n",
      "\n",
      "Compiling model graph\n",
      "   Resolving undeclared variables\n",
      "   Allocating nodes\n",
      "Graph information:\n",
      "   Observed stochastic nodes: 16\n",
      "   Unobserved stochastic nodes: 65\n",
      "   Total graph size: 526\n",
      "\n",
      "Initializing model\n",
      "\n",
      "Compiling model graph\n",
      "   Resolving undeclared variables\n",
      "   Allocating nodes\n",
      "Graph information:\n",
      "   Observed stochastic nodes: 16\n",
      "   Unobserved stochastic nodes: 65\n",
      "   Total graph size: 526\n",
      "\n",
      "Initializing model\n",
      "\n",
      "Compiling model graph\n",
      "   Resolving undeclared variables\n",
      "   Allocating nodes\n",
      "Graph information:\n",
      "   Observed stochastic nodes: 16\n",
      "   Unobserved stochastic nodes: 65\n",
      "   Total graph size: 526\n",
      "\n",
      "Initializing model\n",
      "\n",
      "Compiling model graph\n",
      "   Resolving undeclared variables\n",
      "   Allocating nodes\n",
      "Graph information:\n",
      "   Observed stochastic nodes: 16\n",
      "   Unobserved stochastic nodes: 65\n",
      "   Total graph size: 526\n",
      "\n",
      "Initializing model\n",
      "\n",
      "Compiling model graph\n",
      "   Resolving undeclared variables\n",
      "   Allocating nodes\n",
      "Graph information:\n",
      "   Observed stochastic nodes: 16\n",
      "   Unobserved stochastic nodes: 65\n",
      "   Total graph size: 526\n",
      "\n",
      "Initializing model\n",
      "\n",
      "Compiling model graph\n",
      "   Resolving undeclared variables\n",
      "   Allocating nodes\n",
      "Graph information:\n",
      "   Observed stochastic nodes: 16\n",
      "   Unobserved stochastic nodes: 65\n",
      "   Total graph size: 526\n",
      "\n",
      "Initializing model\n",
      "\n",
      "Compiling model graph\n",
      "   Resolving undeclared variables\n",
      "   Allocating nodes\n",
      "Graph information:\n",
      "   Observed stochastic nodes: 16\n",
      "   Unobserved stochastic nodes: 65\n",
      "   Total graph size: 526\n",
      "\n",
      "Initializing model\n",
      "\n",
      "Compiling model graph\n",
      "   Resolving undeclared variables\n",
      "   Allocating nodes\n",
      "Graph information:\n",
      "   Observed stochastic nodes: 16\n",
      "   Unobserved stochastic nodes: 65\n",
      "   Total graph size: 526\n",
      "\n",
      "Initializing model"
     ]
    }
   ],
   "source": [
    "model_run <- mixtures |>\n",
    "  mutate(\n",
    "    mix = map(path, ~load_mix_data(filename = .x,\n",
    "                                   iso_names = fingerprints,\n",
    "                                   factors = NULL,\n",
    "                                   fac_random = NULL,\n",
    "                                   fac_nested = NULL,\n",
    "                                   cont_effects = NULL)),\n",
    "    source = map(mix, ~load_source_data(filename = here::here(\"./notebooks/Mixtures_grid/source.csv\"),\n",
    "                                        source_factors = NULL, \n",
    "                                        conc_dep = FALSE, \n",
    "                                        data_type = \"means\", \n",
    "                                        .x)),\n",
    "    discr = map(mix, ~load_discr_data(filename = here::here(\"./notebooks/Mixtures_grid/tef.csv\"), .x)))\n",
    "\n",
    "model_run <- model_run |> \n",
    "  mutate(filename = here::here(paste0(\"./notebooks/Mixtures_grid/MixSIAR_\", prop_forest, \".txt\")))\n",
    "\n",
    "model_run |>\n",
    "  select(filename, mix, source) |>\n",
    "  mutate(resid_err = FALSE, process_err = TRUE) |>\n",
    "  pwalk(write_JAGS_model)\n",
    "\n",
    "models <- model_run %>%\n",
    "  select(prop_forest, mix, source, discr, model_filename = filename) %>%\n",
    "  mutate(run = \"normal\", alpha.prior = 1) %>%\n",
    "  #slice(1:2) %>%\n",
    "  mutate(model = pmap(.l = select(., -prop_forest), run_model))\n"
   ],
   "id": "8afdaa20-73b5-499c-bf41-dd7f00dc517c"
  },
  {
   "cell_type": "markdown",
   "metadata": {},
   "source": [
    "## Combine all model runs"
   ],
   "id": "2637c389-5f86-4280-abf4-6ebbf560e8de"
  },
  {
   "cell_type": "code",
   "execution_count": null,
   "metadata": {},
   "outputs": [
    {
     "output_type": "display_data",
     "metadata": {},
     "data": {
      "image/png": "[encoded data removed]"
     }
    }
   ],
   "source": [
    "ggplot(data = final_results, aes(x = as.factor(prop_forest), y = Agriculture)) +\n",
    "  geom_boxplot() +\n",
    "  theme_bw() +\n",
    "  scale_y_continuous(expand = c(0,0.01))\n"
   ],
   "id": "4cf3fcf7-b0fd-47e8-b7b5-9d58ac4027f5"
  }
 ],
 "nbformat": 4,
 "nbformat_minor": 5,
 "metadata": {}
}
