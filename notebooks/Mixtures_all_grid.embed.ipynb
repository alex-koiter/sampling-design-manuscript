{
 "cells": [
  {
   "cell_type": "markdown",
   "metadata": {},
   "source": [
    "# MixSIAR results- Grid source, composite mixture\n",
    "\n",
    "Alex Koiter\n",
    "\n",
    "## Load Libraries"
   ],
   "id": "7a1d58a2-5042-4dc3-a3ec-4d3d371470b3"
  },
  {
   "cell_type": "code",
   "execution_count": null,
   "metadata": {},
   "outputs": [
    {
     "output_type": "stream",
     "name": "stderr",
     "text": [
      "── Attaching core tidyverse packages ──────────────────────── tidyverse 2.0.0 ──\n",
      "✔ dplyr     1.1.4     ✔ readr     2.1.4\n",
      "✔ forcats   1.0.0     ✔ stringr   1.5.1\n",
      "✔ ggplot2   3.5.0     ✔ tibble    3.2.1\n",
      "✔ lubridate 1.9.2     ✔ tidyr     1.3.1\n",
      "✔ purrr     1.0.2     \n",
      "── Conflicts ────────────────────────────────────────── tidyverse_conflicts() ──\n",
      "✖ dplyr::filter() masks stats::filter()\n",
      "✖ dplyr::lag()    masks stats::lag()\n",
      "ℹ Use the conflicted package (<http://conflicted.r-lib.org/>) to force all conflicts to become errors"
     ]
    }
   ],
   "source": [
    "library(tidyverse)"
   ],
   "id": "06b2af9a-b559-48ba-8e6c-647fe1998b0a"
  },
  {
   "cell_type": "markdown",
   "metadata": {},
   "source": [
    "## Fingerprints"
   ],
   "id": "f0161341-1dfb-443a-a1e9-21e014c1a86f"
  },
  {
   "cell_type": "code",
   "execution_count": null,
   "metadata": {},
   "outputs": [],
   "source": [
    "fingerprints <- c(\"Li\", \"a_col\", \"Fe\", \"Co\", \"Hg\", \"x_col\", \"Cs\", \"La\", \"Ni\", \"Nb\", \"h_col\", \"b_col\", \"Rb\", \"Ca\", \"Sr\", \"c_col\")"
   ],
   "id": "4894a29d-5610-4500-8022-d583b17514af"
  },
  {
   "cell_type": "markdown",
   "metadata": {},
   "source": [
    "## Load in data"
   ],
   "id": "322fdb32-a09b-4ca6-8a5f-8fc1affa911c"
  },
  {
   "cell_type": "code",
   "execution_count": null,
   "metadata": {},
   "outputs": [],
   "source": [
    "geo_results <- read.csv(here::here(\"./notebooks/Geochemistry analysis - Copy 2.csv\")) %>%\n",
    "  pivot_longer(cols = Ag:Zr, names_to = \"Fingerprint\", values_to = \"value\") %>%\n",
    "  filter(Fingerprint %in% c(\"Ag\", \"Al\", \"As\",\"B\",\"Ba\",\"Be\",\"Bi\",\"Ca\",\"Cd\",\"Ce\",\"Co\", \"Cr\", \"Cs\", \"Cu\", \"Fe\", \"Ga\", \"Hf\", \"Hg\", \"In\", \"K\", \"La\", \"Li\", \"Mg\", \"Mn\", \"Mo\", \"Nb\", \"Ni\", \"P\", \"Pb\", \"Rb\", \"S\", \"Sb\", \"Sc\", \"Se\", \"Sn\", \"Sr\", \"Te\", \"Th\", \"Tl\", \"U\", \"V\", \"Y\", \"Zn\", \"Zr\")) %>% # excludes fingerprints that are below level of detection\n",
    "  dplyr::select(-X) %>% # don't need this column\n",
    "  filter(sample_design %in% c(\"Grid\", \"Transect\", \"Likely to erode\")) \n",
    "\n",
    "col_results <- read.csv(here::here(\"./notebooks/final results revised.csv\")) %>%\n",
    "  pivot_longer(cols = X:B, names_to = \"Fingerprint\", values_to = \"value\") %>%\n",
    "  dplyr::select(-X.1) %>% # don't need this column\n",
    "  filter(sample_design %in% c(\"Grid\", \"Transect\", \"Likely to erode\")) %>%\n",
    "  mutate(Fingerprint = paste0(Fingerprint, \"_col\")) # appended _col as some of the colour coefficients have the same id eg Boron = B and Blue also = B\n",
    "\n",
    "\n",
    "# Bind data sets\n",
    "results <- geo_results %>%\n",
    "  bind_rows(col_results) %>%\n",
    "  filter(Fingerprint %in% fingerprints)"
   ],
   "id": "0e7949ba-a964-481c-a27b-835b1c97f682"
  },
  {
   "cell_type": "markdown",
   "metadata": {},
   "source": [
    "## Virtual mixtures"
   ],
   "id": "2ef1e965-2221-40ef-b50e-cbb5acb23178"
  },
  {
   "cell_type": "code",
   "execution_count": null,
   "metadata": {},
   "outputs": [
    {
     "output_type": "stream",
     "name": "stderr",
     "text": [
      "`summarise()` has grouped output by 'Fingerprint'. You can override using the\n",
      "`.groups` argument.\n",
      "`summarise()` has grouped output by 'Fingerprint', 'Agriculture'. You can\n",
      "override using the `.groups` argument."
     ]
    },
    {
     "output_type": "stream",
     "name": "stderr",
     "text": [
      "Warning: The `path` argument of `write_csv()` is deprecated as of readr 1.4.0.\n",
      "ℹ Please use the `file` argument instead.\n",
      "ℹ The deprecated feature was likely used in the purrr package.\n",
      "  Please report the issue at <https://github.com/tidyverse/purrr/issues>."
     ]
    }
   ],
   "source": [
    "proportions <- seq(0, 1, 0.05)\n",
    "\n",
    "mixtures <- results %>%\n",
    "  filter(sample_design %in% c(\"Grid\", \"Likely to erode\")) %>% # excluded transects as the transects are contained with in the grid this gives us all unique samples \n",
    "  group_by(Fingerprint, site) %>%\n",
    "  summarise(avg =  mean(value)) %>%\n",
    "  pivot_wider(names_from = site, values_from = avg) %>%\n",
    "  mutate(mix_ag = map(Agriculture, ~.x * (1 - proportions)),\n",
    "         mix_forest = map(Forest, ~.x * proportions)) %>%\n",
    "  group_by(Fingerprint, Agriculture, Forest) %>%\n",
    "  summarize(mix = map2(mix_ag, mix_forest, ~data.frame(mix = .x + .y, prop_forest = proportions))) %>%\n",
    "  unnest(mix) %>%\n",
    "  pivot_wider(id_cols = prop_forest, names_from = Fingerprint, values_from = mix) %>%\n",
    "  nest(.by = prop_forest) %>%\n",
    "  mutate(path = here::here(paste0(\"./notebooks/Mixtures_all_grid/\", prop_forest, \".csv\")))"
   ],
   "id": "8791dc13-0001-4695-8b9f-14b0d190aad8"
  },
  {
   "cell_type": "markdown",
   "metadata": {},
   "source": [
    "## Sources"
   ],
   "id": "718a2d17-8c81-4394-a166-35df7220856f"
  },
  {
   "cell_type": "code",
   "execution_count": null,
   "metadata": {},
   "outputs": [
    {
     "output_type": "stream",
     "name": "stderr",
     "text": [
      "`summarise()` has grouped output by 'site'. You can override using the\n",
      "`.groups` argument."
     ]
    }
   ],
   "source": [
    "sources <- results %>%\n",
    "  filter(sample_design == \"Grid\") %>%\n",
    "  group_by(site, Fingerprint) %>%\n",
    "  summarise(Mean = mean(value),\n",
    "            SD = sd(value)) %>%\n",
    "  pivot_longer(cols = c(\"Mean\", \"SD\"), names_to = \"parameter\", values_to = \"value\") %>%\n",
    "  mutate(variable = paste0(parameter, Fingerprint), parameter = NULL, Fingerprint = NULL) %>%\n",
    "  pivot_wider(names_from = variable, values_from = value) %>%\n",
    "  mutate(n = 49) %>%\n",
    "  ungroup()"
   ],
   "id": "7342cafd-2cc7-4388-81d5-9643353f17e9"
  },
  {
   "cell_type": "markdown",
   "metadata": {},
   "source": [
    "## TEF"
   ],
   "id": "7b69ecd6-9eac-47f5-8e8a-9504b740c3c5"
  },
  {
   "cell_type": "code",
   "execution_count": null,
   "metadata": {},
   "outputs": [],
   "source": [
    "tef <- mutate(sources, across(where(is.numeric), ~0)) %>%\n",
    "  select(-n)\n",
    "write_csv(x = tef, file = here::here(\"./notebooks/Mixtures_all_grid/tef.csv\"))"
   ],
   "id": "2a1ed128-c094-4917-bf9f-72c9ee422b1f"
  },
  {
   "cell_type": "markdown",
   "metadata": {},
   "source": [
    "## Unmixing"
   ],
   "id": "fcf3c599-b4dc-4832-9964-8a0720093d4c"
  },
  {
   "cell_type": "code",
   "execution_count": null,
   "metadata": {},
   "outputs": [
    {
     "output_type": "stream",
     "name": "stderr",
     "text": [
      "module glm loaded"
     ]
    },
    {
     "output_type": "stream",
     "name": "stdout",
     "text": [
      "Compiling model graph\n",
      "   Resolving undeclared variables\n",
      "   Allocating nodes\n",
      "Graph information:\n",
      "   Observed stochastic nodes: 16\n",
      "   Unobserved stochastic nodes: 65\n",
      "   Total graph size: 526\n",
      "\n",
      "Initializing model\n",
      "\n",
      "Compiling model graph\n",
      "   Resolving undeclared variables\n",
      "   Allocating nodes\n",
      "Graph information:\n",
      "   Observed stochastic nodes: 16\n",
      "   Unobserved stochastic nodes: 65\n",
      "   Total graph size: 526\n",
      "\n",
      "Initializing model\n",
      "\n",
      "Compiling model graph\n",
      "   Resolving undeclared variables\n",
      "   Allocating nodes\n",
      "Graph information:\n",
      "   Observed stochastic nodes: 16\n",
      "   Unobserved stochastic nodes: 65\n",
      "   Total graph size: 526\n",
      "\n",
      "Initializing model\n",
      "\n",
      "Compiling model graph\n",
      "   Resolving undeclared variables\n",
      "   Allocating nodes\n",
      "Graph information:\n",
      "   Observed stochastic nodes: 16\n",
      "   Unobserved stochastic nodes: 65\n",
      "   Total graph size: 526\n",
      "\n",
      "Initializing model\n",
      "\n",
      "Compiling model graph\n",
      "   Resolving undeclared variables\n",
      "   Allocating nodes\n",
      "Graph information:\n",
      "   Observed stochastic nodes: 16\n",
      "   Unobserved stochastic nodes: 65\n",
      "   Total graph size: 526\n",
      "\n",
      "Initializing model\n",
      "\n",
      "Compiling model graph\n",
      "   Resolving undeclared variables\n",
      "   Allocating nodes\n",
      "Graph information:\n",
      "   Observed stochastic nodes: 16\n",
      "   Unobserved stochastic nodes: 65\n",
      "   Total graph size: 526\n",
      "\n",
      "Initializing model\n",
      "\n",
      "Compiling model graph\n",
      "   Resolving undeclared variables\n",
      "   Allocating nodes\n",
      "Graph information:\n",
      "   Observed stochastic nodes: 16\n",
      "   Unobserved stochastic nodes: 65\n",
      "   Total graph size: 526\n",
      "\n",
      "Initializing model\n",
      "\n",
      "Compiling model graph\n",
      "   Resolving undeclared variables\n",
      "   Allocating nodes\n",
      "Graph information:\n",
      "   Observed stochastic nodes: 16\n",
      "   Unobserved stochastic nodes: 65\n",
      "   Total graph size: 526\n",
      "\n",
      "Initializing model\n",
      "\n",
      "Compiling model graph\n",
      "   Resolving undeclared variables\n",
      "   Allocating nodes\n",
      "Graph information:\n",
      "   Observed stochastic nodes: 16\n",
      "   Unobserved stochastic nodes: 65\n",
      "   Total graph size: 526\n",
      "\n",
      "Initializing model\n",
      "\n",
      "Compiling model graph\n",
      "   Resolving undeclared variables\n",
      "   Allocating nodes\n",
      "Graph information:\n",
      "   Observed stochastic nodes: 16\n",
      "   Unobserved stochastic nodes: 65\n",
      "   Total graph size: 526\n",
      "\n",
      "Initializing model\n",
      "\n",
      "Compiling model graph\n",
      "   Resolving undeclared variables\n",
      "   Allocating nodes\n",
      "Graph information:\n",
      "   Observed stochastic nodes: 16\n",
      "   Unobserved stochastic nodes: 65\n",
      "   Total graph size: 526\n",
      "\n",
      "Initializing model\n",
      "\n",
      "Compiling model graph\n",
      "   Resolving undeclared variables\n",
      "   Allocating nodes\n",
      "Graph information:\n",
      "   Observed stochastic nodes: 16\n",
      "   Unobserved stochastic nodes: 65\n",
      "   Total graph size: 526\n",
      "\n",
      "Initializing model\n",
      "\n",
      "Compiling model graph\n",
      "   Resolving undeclared variables\n",
      "   Allocating nodes\n",
      "Graph information:\n",
      "   Observed stochastic nodes: 16\n",
      "   Unobserved stochastic nodes: 65\n",
      "   Total graph size: 526\n",
      "\n",
      "Initializing model\n",
      "\n",
      "Compiling model graph\n",
      "   Resolving undeclared variables\n",
      "   Allocating nodes\n",
      "Graph information:\n",
      "   Observed stochastic nodes: 16\n",
      "   Unobserved stochastic nodes: 65\n",
      "   Total graph size: 526\n",
      "\n",
      "Initializing model\n",
      "\n",
      "Compiling model graph\n",
      "   Resolving undeclared variables\n",
      "   Allocating nodes\n",
      "Graph information:\n",
      "   Observed stochastic nodes: 16\n",
      "   Unobserved stochastic nodes: 65\n",
      "   Total graph size: 526\n",
      "\n",
      "Initializing model\n",
      "\n",
      "Compiling model graph\n",
      "   Resolving undeclared variables\n",
      "   Allocating nodes\n",
      "Graph information:\n",
      "   Observed stochastic nodes: 16\n",
      "   Unobserved stochastic nodes: 65\n",
      "   Total graph size: 526\n",
      "\n",
      "Initializing model\n",
      "\n",
      "Compiling model graph\n",
      "   Resolving undeclared variables\n",
      "   Allocating nodes\n",
      "Graph information:\n",
      "   Observed stochastic nodes: 16\n",
      "   Unobserved stochastic nodes: 65\n",
      "   Total graph size: 526\n",
      "\n",
      "Initializing model\n",
      "\n",
      "Compiling model graph\n",
      "   Resolving undeclared variables\n",
      "   Allocating nodes\n",
      "Graph information:\n",
      "   Observed stochastic nodes: 16\n",
      "   Unobserved stochastic nodes: 65\n",
      "   Total graph size: 526\n",
      "\n",
      "Initializing model\n",
      "\n",
      "Compiling model graph\n",
      "   Resolving undeclared variables\n",
      "   Allocating nodes\n",
      "Graph information:\n",
      "   Observed stochastic nodes: 16\n",
      "   Unobserved stochastic nodes: 65\n",
      "   Total graph size: 526\n",
      "\n",
      "Initializing model\n",
      "\n",
      "Compiling model graph\n",
      "   Resolving undeclared variables\n",
      "   Allocating nodes\n",
      "Graph information:\n",
      "   Observed stochastic nodes: 16\n",
      "   Unobserved stochastic nodes: 65\n",
      "   Total graph size: 526\n",
      "\n",
      "Initializing model\n",
      "\n",
      "Compiling model graph\n",
      "   Resolving undeclared variables\n",
      "   Allocating nodes\n",
      "Graph information:\n",
      "   Observed stochastic nodes: 16\n",
      "   Unobserved stochastic nodes: 65\n",
      "   Total graph size: 526\n",
      "\n",
      "Initializing model"
     ]
    }
   ],
   "source": [
    "model_run <- mixtures |>\n",
    "  mutate(\n",
    "    mix = map(path, ~load_mix_data(filename = .x,\n",
    "                                   iso_names = fingerprints,\n",
    "                                   factors = NULL,\n",
    "                                   fac_random = NULL,\n",
    "                                   fac_nested = NULL,\n",
    "                                   cont_effects = NULL)),\n",
    "    source = map(mix, ~load_source_data(filename = here::here(\"./notebooks/Mixtures_all_grid/source.csv\"),\n",
    "                                        source_factors = NULL, \n",
    "                                        conc_dep = FALSE, \n",
    "                                        data_type = \"means\", \n",
    "                                        .x)),\n",
    "    discr = map(mix, ~load_discr_data(filename = here::here(\"./notebooks/Mixtures_all_grid/tef.csv\"), .x)))\n",
    "\n",
    "model_run <- model_run |> \n",
    "  mutate(filename = here::here(paste0(\"./notebooks/Mixtures_all_grid/MixSIAR_\", prop_forest, \".txt\")))\n",
    "\n",
    "model_run |>\n",
    "  select(filename, mix, source) |>\n",
    "  mutate(resid_err = FALSE, process_err = TRUE) |>\n",
    "  pwalk(write_JAGS_model)\n",
    "\n",
    "models <- model_run %>%\n",
    "  select(prop_forest, mix, source, discr, model_filename = filename) %>%\n",
    "  mutate(run = \"normal\", alpha.prior = 1) %>%\n",
    "  #slice(1:2) %>%\n",
    "  mutate(model = pmap(.l = select(., -prop_forest), run_model))"
   ],
   "id": "244302f4-9175-4268-bde9-dc6a88a99afd"
  },
  {
   "cell_type": "markdown",
   "metadata": {},
   "source": [
    "## Combine all model runs"
   ],
   "id": "06c93d93-4664-4931-bdef-3f073d60266f"
  },
  {
   "cell_type": "code",
   "execution_count": null,
   "metadata": {},
   "outputs": [],
   "source": [
    "final_results <- models %>%\n",
    "  mutate(output = map(model, ~ as.data.frame(.x$BUGSoutput$sims.matrix) %>%\n",
    "                       select(\"Agriculture\" = `p.global[1]`, \"Forest\" = `p.global[2]`)\n",
    "                     )) %>%\n",
    "  unnest(output)\n",
    "\n",
    "write_csv(x = final_results, file = here::here(\"./notebooks/Mixtures_all_grid/grid_final_results.csv\"))"
   ],
   "id": "586a16f4-f4cd-4010-a1bd-21103421eccf"
  },
  {
   "cell_type": "markdown",
   "metadata": {},
   "source": [
    "## Sneek peek"
   ],
   "id": "9c729868-4aab-4030-a340-17a1d8385f1a"
  },
  {
   "cell_type": "code",
   "execution_count": null,
   "metadata": {},
   "outputs": [
    {
     "output_type": "display_data",
     "metadata": {},
     "data": {
      "image/png": "[encoded data removed]"
     }
    }
   ],
   "source": [
    "ggplot(data = final_results, aes(x = as.factor(prop_forest), y = Agriculture)) +\n",
    "  geom_boxplot() +\n",
    "  theme_bw() +\n",
    "  scale_y_continuous(expand = c(0,0.01))"
   ],
   "id": "c786da0f-5ac5-4e2e-887c-342324b42f53"
  }
 ],
 "nbformat": 4,
 "nbformat_minor": 5,
 "metadata": {}
}
